{
  "nbformat": 4,
  "nbformat_minor": 0,
  "metadata": {
    "colab": {
      "provenance": []
    },
    "kernelspec": {
      "name": "python3",
      "display_name": "Python 3"
    },
    "language_info": {
      "name": "python"
    }
  },
  "cells": [
    {
      "cell_type": "markdown",
      "source": [
        "TOPIC: String Based Assignment Problem\n"
      ],
      "metadata": {
        "id": "kpMUfgby9P6m"
      }
    },
    {
      "cell_type": "markdown",
      "source": [
        "1.\n"
      ],
      "metadata": {
        "id": "eGcdhYfZ9WPS"
      }
    },
    {
      "cell_type": "code",
      "execution_count": null,
      "metadata": {
        "id": "Do_XgVHXpMhe",
        "colab": {
          "base_uri": "https://localhost:8080/"
        },
        "outputId": "d8109fd1-1244-4783-ae3d-8ab15f03ddcb"
      },
      "outputs": [
        {
          "output_type": "stream",
          "name": "stdout",
          "text": [
            "enter a string: ncjhgftru\n",
            "the reversed string is: urtfghjcn\n"
          ]
        }
      ],
      "source": [
        "s = input('enter a string: ')\n",
        "print('the reversed string is:',s[::-1])"
      ]
    },
    {
      "cell_type": "markdown",
      "source": [
        "2"
      ],
      "metadata": {
        "id": "k3aK1r-DBNQz"
      }
    },
    {
      "cell_type": "code",
      "source": [
        "s = input('enter the string')\n",
        "if s == s[::-1]:\n",
        "  print('this is palindrome')\n",
        "else:\n",
        "  print('this is not palindrome')\n"
      ],
      "metadata": {
        "colab": {
          "base_uri": "https://localhost:8080/"
        },
        "id": "PZe3ZD2ZBHzD",
        "outputId": "eb07ed12-d512-4ccf-f682-5724edd8c9dc"
      },
      "execution_count": 1,
      "outputs": [
        {
          "output_type": "stream",
          "name": "stdout",
          "text": [
            "enter the stringqweewq\n",
            "this is palindrome\n"
          ]
        }
      ]
    },
    {
      "cell_type": "markdown",
      "source": [
        "3"
      ],
      "metadata": {
        "id": "UbcW1_3m-ZCg"
      }
    },
    {
      "cell_type": "code",
      "source": [
        "s = input('enter a string: ')\n",
        "print('the string in uppercase: ',s.upper()) #convert a string into upper case"
      ],
      "metadata": {
        "colab": {
          "base_uri": "https://localhost:8080/"
        },
        "id": "wIN-C6wMplD8",
        "outputId": "6fdac308-5e34-4d7d-fe99-34e3c50c0a01"
      },
      "execution_count": null,
      "outputs": [
        {
          "output_type": "stream",
          "name": "stdout",
          "text": [
            "enter a string: nbcvhfgyr\n",
            "the string in uppercase:  NBCVHFGYR\n"
          ]
        }
      ]
    },
    {
      "cell_type": "markdown",
      "source": [
        "4"
      ],
      "metadata": {
        "id": "dgKdcNtS-a5M"
      }
    },
    {
      "cell_type": "code",
      "source": [
        "s = input('enter a string: ')\n",
        "print('the string in lowercase: ',s.lower()) #Convert a string to lowercase."
      ],
      "metadata": {
        "colab": {
          "base_uri": "https://localhost:8080/"
        },
        "id": "RDqhjGbvqE-I",
        "outputId": "6bf4a39b-7d14-4659-b61d-daefc65ff07f"
      },
      "execution_count": null,
      "outputs": [
        {
          "output_type": "stream",
          "name": "stdout",
          "text": [
            "enter a string: NBCVDGTRY\n",
            "the string in lowercase:  nbcvdgtry\n"
          ]
        }
      ]
    },
    {
      "cell_type": "markdown",
      "source": [
        "6"
      ],
      "metadata": {
        "id": "8ts0Q8MhBewA"
      }
    },
    {
      "cell_type": "code",
      "source": [
        "s2 = input('enter a string: ')\n",
        "a= len(s2.replace(' ',''))\n",
        "b = s2.count('a')+s2.count('A') + s2.count('e') + s2.count('E') + s2.count('i') + s2.count('I') + s2.count('o') + s2.count('O') + s2.count('u') + s2.count('U')\n",
        "print('no. of consonents in the string; ',(a-b))"
      ],
      "metadata": {
        "id": "RM9MZ58AqUzl",
        "colab": {
          "base_uri": "https://localhost:8080/"
        },
        "outputId": "9ead3ec6-546a-496d-e2f6-7e36841c684e"
      },
      "execution_count": null,
      "outputs": [
        {
          "output_type": "stream",
          "name": "stdout",
          "text": [
            "enter a string: nbc vfgtuwionc bvdgyeiohf\n",
            "no. of consonents in the string;  17\n"
          ]
        }
      ]
    },
    {
      "cell_type": "markdown",
      "source": [
        "5"
      ],
      "metadata": {
        "id": "GyMy9GIOBgI5"
      }
    },
    {
      "cell_type": "code",
      "source": [
        "s2 = input('enter a string: ')\n",
        "print('no. of vowels in a string: ',\n",
        "s2.count('a')+s2.count('A') + s2.count('e') + s2.count('E') + s2.count('i') + s2.count('I') + s2.count('o') + s2.count('O') + s2.count('u') + s2.count('U'))"
      ],
      "metadata": {
        "colab": {
          "base_uri": "https://localhost:8080/"
        },
        "id": "6DRmXftDrZvA",
        "outputId": "b5d5ed5e-2dfe-4900-a1ad-1b8b12ddd671"
      },
      "execution_count": null,
      "outputs": [
        {
          "output_type": "stream",
          "name": "stdout",
          "text": [
            "enter a string: nbcvdfteyuiomn bdvgftr bncbgfhyeii\n",
            "no. of vowels in a string:  7\n"
          ]
        }
      ]
    },
    {
      "cell_type": "markdown",
      "source": [
        "7"
      ],
      "metadata": {
        "id": "0ph7bdeZBiqY"
      }
    },
    {
      "cell_type": "code",
      "source": [
        "s2 = input('enter a string: ')\n",
        "print('after removing all whitespaces: ',s2.replace(' ','')) #remove whitespace from string"
      ],
      "metadata": {
        "colab": {
          "base_uri": "https://localhost:8080/"
        },
        "id": "9_esngYdst1d",
        "outputId": "7209d0f0-7381-43cc-e326-81a98199ee8b"
      },
      "execution_count": null,
      "outputs": [
        {
          "output_type": "stream",
          "name": "stdout",
          "text": [
            "enter a string: bvvfg cbvdhyu bfgtriow \n",
            "after removing all whitespaces:  bvvfgcbvdhyubfgtriow\n"
          ]
        }
      ]
    },
    {
      "cell_type": "markdown",
      "source": [
        "8"
      ],
      "metadata": {
        "id": "BtQW-l8oGk_1"
      }
    },
    {
      "cell_type": "code",
      "source": [
        "s1 = input('enter the string: ')\n",
        "l1 = s1.split()\n",
        "l2 = l1.append('p')\n",
        "s2 = ''.join(l1)\n",
        "print('the length of the given string: ', s2.rindex('p'))"
      ],
      "metadata": {
        "colab": {
          "base_uri": "https://localhost:8080/"
        },
        "id": "g_LwMiuJGkad",
        "outputId": "2f76ec5a-8ce0-45b9-a03d-53ce6d7ec2e8"
      },
      "execution_count": 3,
      "outputs": [
        {
          "output_type": "stream",
          "name": "stdout",
          "text": [
            "enter the string: bnjdhplakyrupjnduplkuehdgplmndgy\n",
            "the length of the given string:  32\n"
          ]
        }
      ]
    },
    {
      "cell_type": "markdown",
      "source": [
        "9"
      ],
      "metadata": {
        "id": "OtRprnl-J_YL"
      }
    },
    {
      "cell_type": "code",
      "source": [
        "s1 = input('enter a string: ')\n",
        "s0 = input('enter the word to check : ')\n",
        "if s0 in s1:\n",
        "  print('the word is present in the string')\n",
        "else:\n",
        "  print('the word is not present in the string')"
      ],
      "metadata": {
        "colab": {
          "base_uri": "https://localhost:8080/"
        },
        "id": "SQaocCPtBYKX",
        "outputId": "43911113-3dd8-4e7e-9415-4e2fe1540d50"
      },
      "execution_count": null,
      "outputs": [
        {
          "output_type": "stream",
          "name": "stdout",
          "text": [
            "enter a string: i am abir ghosh\n",
            "enter the word to check : abir\n",
            "the word is present in the string\n"
          ]
        }
      ]
    },
    {
      "cell_type": "markdown",
      "source": [
        "10"
      ],
      "metadata": {
        "id": "oECN3Xi5KQqq"
      }
    },
    {
      "cell_type": "code",
      "source": [
        "s1 = input('enter a string: ')\n",
        "s2 = input('enter the word need to replace: ')\n",
        "s3 = input('enter the new replaced word: ')\n",
        "print('before replacing the word: ',s1)\n",
        "print('after replacing the word: ',s1.replace(s2,s3))"
      ],
      "metadata": {
        "colab": {
          "base_uri": "https://localhost:8080/"
        },
        "id": "wggHVD8iJ3zK",
        "outputId": "245afca3-53f2-4a19-ab60-e3a970171c5c"
      },
      "execution_count": null,
      "outputs": [
        {
          "output_type": "stream",
          "name": "stdout",
          "text": [
            "enter a string: i am darth vader\n",
            "enter the word need to replace: darth vader\n",
            "enter the new replaced word: abir ghosh\n",
            "before replacing the word:  i am darth vader\n",
            "after replacing the word:  i am abir ghosh\n"
          ]
        }
      ]
    },
    {
      "cell_type": "markdown",
      "source": [
        "11"
      ],
      "metadata": {
        "id": "HTYFJBcof8Eh"
      }
    },
    {
      "cell_type": "code",
      "source": [
        "s1 = input('enter a string: ')\n",
        "s2 = input('enter the word/letter to count the occurance in the string: ')\n",
        "print('the occurance of the word/letter in the string: ',s1.count(s2))\n"
      ],
      "metadata": {
        "colab": {
          "base_uri": "https://localhost:8080/"
        },
        "id": "W0WLst8nOXUI",
        "outputId": "17071396-271e-4b1d-c33e-a8377deaaa72"
      },
      "execution_count": null,
      "outputs": [
        {
          "output_type": "stream",
          "name": "stdout",
          "text": [
            "enter a string: i am abir abir ghosh ghosh\n",
            "enter the word/letter to count the occurance in the string: ghosh\n",
            "the occurance of the word/letter in the string:  2\n"
          ]
        }
      ]
    },
    {
      "cell_type": "markdown",
      "source": [
        "12"
      ],
      "metadata": {
        "id": "2IK5hWhiikZ8"
      }
    },
    {
      "cell_type": "code",
      "source": [
        "s1 = input('enter a string: ')\n",
        "s2 = input('enter the word to check first occurance: ')\n",
        "print('the first occurance of the word in the string: ',s1.find(s2))"
      ],
      "metadata": {
        "colab": {
          "base_uri": "https://localhost:8080/"
        },
        "id": "mtMkFv6rgZND",
        "outputId": "fc791a40-bdda-4014-d03c-5934cf382334"
      },
      "execution_count": null,
      "outputs": [
        {
          "output_type": "stream",
          "name": "stdout",
          "text": [
            "enter a string: my hot cold abir ghosh hot cold cold hot\n",
            "enter the word to check first occurance: hot\n",
            "the first occurance of the word in the string:  3\n"
          ]
        }
      ]
    },
    {
      "cell_type": "markdown",
      "source": [
        "13"
      ],
      "metadata": {
        "id": "cQJ4xX6Zihku"
      }
    },
    {
      "cell_type": "code",
      "source": [
        "s1 = input('enter a string: ')\n",
        "s2 = input('enter the word to check first occurance: ')\n",
        "print('the last occurance of the word in the string: ',s1.rfind(s2))"
      ],
      "metadata": {
        "colab": {
          "base_uri": "https://localhost:8080/"
        },
        "id": "mxwbBhrkiVv8",
        "outputId": "d17827eb-2727-41ad-87cd-1303c135aabc"
      },
      "execution_count": null,
      "outputs": [
        {
          "output_type": "stream",
          "name": "stdout",
          "text": [
            "enter a string: my hot cold abir ghosh hot cold cold hot\n",
            "enter the word to check first occurance: cold\n",
            "the last occurance of the word in the string:  32\n"
          ]
        }
      ]
    },
    {
      "cell_type": "markdown",
      "source": [
        "14"
      ],
      "metadata": {
        "id": "dctWARRrjuF4"
      }
    },
    {
      "cell_type": "code",
      "source": [
        "s1 = input('enter a string: ')\n",
        "print('after spliting the words in a list: ', s1.split())"
      ],
      "metadata": {
        "colab": {
          "base_uri": "https://localhost:8080/"
        },
        "id": "E7WIbLati0Hh",
        "outputId": "80d3055a-0c8a-4fd6-890a-3e0ac8598167"
      },
      "execution_count": null,
      "outputs": [
        {
          "output_type": "stream",
          "name": "stdout",
          "text": [
            "enter a string: i am abir ghosh\n",
            "after spliting the words in a list:  ['i', 'am', 'abir', 'ghosh']\n"
          ]
        }
      ]
    },
    {
      "cell_type": "markdown",
      "source": [
        "15"
      ],
      "metadata": {
        "id": "sz9Q0VORmED8"
      }
    },
    {
      "cell_type": "code",
      "source": [
        "s1 = input('enter a string: ')\n",
        "print('after spliting the words in a list: ', s1.split())\n",
        "s1_list = s1.split()\n",
        "s2 = input('enter the separator: ')\n",
        "print('after joining the words: ', s2.join(s1_list))"
      ],
      "metadata": {
        "colab": {
          "base_uri": "https://localhost:8080/"
        },
        "id": "UtWCbXfxmRP8",
        "outputId": "d50b5ca9-ebed-4bfa-e419-3ea741818dcb"
      },
      "execution_count": null,
      "outputs": [
        {
          "output_type": "stream",
          "name": "stdout",
          "text": [
            "enter a string: i am abir ghosh\n",
            "after spliting the words in a list:  ['i', 'am', 'abir', 'ghosh']\n",
            "enter the separator:  \n",
            "after joining the words:  i am abir ghosh\n"
          ]
        }
      ]
    },
    {
      "cell_type": "markdown",
      "source": [
        "16"
      ],
      "metadata": {
        "id": "L07OdXsip-sH"
      }
    },
    {
      "cell_type": "code",
      "source": [
        "s1 = input('enter a string: ')\n",
        "print('after joining the words: ', s1.replace(' ','_'))"
      ],
      "metadata": {
        "colab": {
          "base_uri": "https://localhost:8080/"
        },
        "id": "hdiiulBJpQKu",
        "outputId": "ece764a3-a170-4282-eb0e-0ed9d3feeafc"
      },
      "execution_count": null,
      "outputs": [
        {
          "output_type": "stream",
          "name": "stdout",
          "text": [
            "enter a string: i amnfg bgftyr nb bfgr \n",
            "after joining the words:  i_amnfg_bgftyr_nb_bfgr_\n"
          ]
        }
      ]
    },
    {
      "cell_type": "markdown",
      "source": [
        "17"
      ],
      "metadata": {
        "id": "wdWG4xDbqBnG"
      }
    },
    {
      "cell_type": "code",
      "source": [
        "s1 = input('enter a string: ')\n",
        "s2 = input('enter the words/phrase need to check strats with')\n",
        "print('True for yes/False for no: ',s1.startswith(s2))"
      ],
      "metadata": {
        "colab": {
          "base_uri": "https://localhost:8080/"
        },
        "id": "qeImD3wmp6ea",
        "outputId": "50eeb13c-6c77-4853-e338-46d7c0edb30d"
      },
      "execution_count": null,
      "outputs": [
        {
          "output_type": "stream",
          "name": "stdout",
          "text": [
            "enter a string: mbfg dge vfgtr bvsgwu\n",
            "enter the words/phrase need to check strats withmbfg\n",
            "True for yes/False for no:  True\n"
          ]
        }
      ]
    },
    {
      "cell_type": "markdown",
      "source": [
        "18"
      ],
      "metadata": {
        "id": "x4z5Wo5BsWMv"
      }
    },
    {
      "cell_type": "code",
      "source": [
        "s1 = input('enter a string: ')\n",
        "s2 = input('enter the words/phrase need to check strats with')\n",
        "print('True for yes and False for no: ',s1.endswith(s2))"
      ],
      "metadata": {
        "colab": {
          "base_uri": "https://localhost:8080/"
        },
        "id": "fJu3r7hcsDK_",
        "outputId": "9846c71b-647f-41f9-e8b9-a68ad2065ae6"
      },
      "execution_count": null,
      "outputs": [
        {
          "output_type": "stream",
          "name": "stdout",
          "text": [
            "enter a string: mdnd bfgtry bdgs\n",
            "enter the words/phrase need to check strats withmnf\n",
            "True for yes and False for no:  False\n"
          ]
        }
      ]
    },
    {
      "cell_type": "markdown",
      "source": [
        "19"
      ],
      "metadata": {
        "id": "ftzln5_-WDlC"
      }
    },
    {
      "cell_type": "code",
      "source": [
        "s1 = input('enter a string: ')\n",
        "print('the title case of the string: ',s1.title())"
      ],
      "metadata": {
        "colab": {
          "base_uri": "https://localhost:8080/"
        },
        "id": "NSoNUvFxsXYF",
        "outputId": "dab39092-134c-4fde-8ba3-48e04d4757b7"
      },
      "execution_count": null,
      "outputs": [
        {
          "output_type": "stream",
          "name": "stdout",
          "text": [
            "enter a string: ghosh\n",
            "the title case of the string:  Ghosh\n"
          ]
        }
      ]
    },
    {
      "cell_type": "markdown",
      "source": [
        "20"
      ],
      "metadata": {
        "id": "8xQvCxvlLPGN"
      }
    },
    {
      "cell_type": "code",
      "source": [
        "s = input('enter a string: ')\n",
        "l2 = ''\n",
        "l = s.split()\n",
        "i= 0\n",
        "while i<len(l):\n",
        "  l1 = l[i]\n",
        "  if len(l1) > len(l2):\n",
        "    l2 = l1\n",
        "  i+=1\n",
        "print('the longest word in the string: ',l2)\n",
        ""
      ],
      "metadata": {
        "colab": {
          "base_uri": "https://localhost:8080/"
        },
        "id": "eKKuFivLLOeQ",
        "outputId": "69b7ece0-d85e-4f10-9408-6acb25bba116"
      },
      "execution_count": 14,
      "outputs": [
        {
          "output_type": "stream",
          "name": "stdout",
          "text": [
            "enter a string:  i am abir ghosh\n",
            "the longest word in the string:  ghosh\n"
          ]
        }
      ]
    },
    {
      "cell_type": "markdown",
      "source": [
        "21"
      ],
      "metadata": {
        "id": "Oq8ir3pkRZA4"
      }
    },
    {
      "cell_type": "code",
      "source": [
        "s = input('enter a string: ')\n",
        "l2 = ''\n",
        "l = s.split()\n",
        "i= 0\n",
        "while i<len(l):\n",
        "  l1 = l[i]\n",
        "  if len(l1) > len(l2):\n",
        "    l2 = l1\n",
        "  i+=1\n",
        "i1 = 0\n",
        "l3 = l2\n",
        "while i1<len(l):\n",
        "  l0 = l[i1]\n",
        "  if len(l0) <= len(l3):\n",
        "    l3 = l0\n",
        "  i1 += 1\n",
        "print('the shortest word in the string: ',l3)"
      ],
      "metadata": {
        "colab": {
          "base_uri": "https://localhost:8080/"
        },
        "id": "bt6SGRD_RYHR",
        "outputId": "eacb80e2-bd32-4719-c246-067ef912b481"
      },
      "execution_count": 25,
      "outputs": [
        {
          "output_type": "stream",
          "name": "stdout",
          "text": [
            "enter a string: hgftyr ghfty gdte\n",
            "the longest word in the string:  hgftyr\n",
            "the shortest word in the string:  gdte\n"
          ]
        }
      ]
    },
    {
      "cell_type": "markdown",
      "source": [
        "22"
      ],
      "metadata": {
        "id": "6AbHK46JWPKj"
      }
    },
    {
      "cell_type": "code",
      "source": [
        "s1 = (input('enter a string: '))\n",
        "print('the reversed string: ',s1[::-1])"
      ],
      "metadata": {
        "colab": {
          "base_uri": "https://localhost:8080/"
        },
        "id": "l9c91d5NWK7g",
        "outputId": "701b900d-1c9d-494b-a7f5-d6e5139052e4"
      },
      "execution_count": null,
      "outputs": [
        {
          "output_type": "stream",
          "name": "stdout",
          "text": [
            "enter a string: i am abir\n",
            "the reversed string:  riba ma i\n"
          ]
        }
      ]
    },
    {
      "cell_type": "markdown",
      "source": [
        "23"
      ],
      "metadata": {
        "id": "WlgZglDQccOW"
      }
    },
    {
      "cell_type": "code",
      "source": [
        "s1 = input('enter a string: ')\n",
        "print('true is yes and false is no: ' ,s1.isalnum())"
      ],
      "metadata": {
        "colab": {
          "base_uri": "https://localhost:8080/"
        },
        "id": "V6RNvps9cXVg",
        "outputId": "25d04c80-980f-4212-e2af-74a9f0f32a99"
      },
      "execution_count": null,
      "outputs": [
        {
          "output_type": "stream",
          "name": "stdout",
          "text": [
            "enter a string: ghgty67 hgyt54\n",
            "true is yes and false is no:  False\n"
          ]
        }
      ]
    },
    {
      "cell_type": "markdown",
      "source": [
        "24"
      ],
      "metadata": {
        "id": "FRyoOiGYwCx5"
      }
    },
    {
      "cell_type": "code",
      "source": [
        "s = input('enter the string: ')\n",
        "d = []\n",
        "for i in s:\n",
        "  if i.isdigit():\n",
        "    d.append(i)\n",
        "print('the digits in the string: ',d)"
      ],
      "metadata": {
        "colab": {
          "base_uri": "https://localhost:8080/"
        },
        "id": "TMnKt_VYwCIz",
        "outputId": "a2ddbd73-52cb-4bae-cd25-6960666b7afc"
      },
      "execution_count": 28,
      "outputs": [
        {
          "output_type": "stream",
          "name": "stdout",
          "text": [
            "enter the string: nh567 bgh56743\n",
            "the digits in the string:  ['5', '6', '7', '5', '6', '7', '4', '3']\n"
          ]
        }
      ]
    },
    {
      "cell_type": "markdown",
      "source": [
        "25"
      ],
      "metadata": {
        "id": "8ylECejSySy5"
      }
    },
    {
      "cell_type": "code",
      "source": [
        "s = input('enter the string: ')\n",
        "d = []\n",
        "for i in s:\n",
        "  if i.isalpha():\n",
        "    d.append(i)\n",
        "print('the digits in the string: ',d)"
      ],
      "metadata": {
        "colab": {
          "base_uri": "https://localhost:8080/"
        },
        "id": "UAT-DItzySNi",
        "outputId": "471dfa43-6fea-4090-a6f2-e61bd784f0d4"
      },
      "execution_count": 29,
      "outputs": [
        {
          "output_type": "stream",
          "name": "stdout",
          "text": [
            "enter the string: nh45 456yrheiown385702983yuehjdnmxkd\n",
            "the digits in the string:  ['n', 'h', 'y', 'r', 'h', 'e', 'i', 'o', 'w', 'n', 'y', 'u', 'e', 'h', 'j', 'd', 'n', 'm', 'x', 'k', 'd']\n"
          ]
        }
      ]
    },
    {
      "cell_type": "markdown",
      "source": [
        "26"
      ],
      "metadata": {
        "id": "JtE4FrorezH9"
      }
    },
    {
      "cell_type": "code",
      "source": [
        "s = input('enter the string: ')\n",
        "u = 0\n",
        "for i in s:\n",
        "  if i.isupper():\n",
        "    u += 1\n",
        "print('the no. of uppercase letters in the string: ',u)"
      ],
      "metadata": {
        "colab": {
          "base_uri": "https://localhost:8080/"
        },
        "id": "LShND4J_eypA",
        "outputId": "06cae0df-d72c-4f53-c033-8b23368712a1"
      },
      "execution_count": 1,
      "outputs": [
        {
          "output_type": "stream",
          "name": "stdout",
          "text": [
            "enter the string: i AM BAIRhgdyeJHGgftFV\n",
            "the no. of uppercase letters in the string:  11\n"
          ]
        }
      ]
    },
    {
      "cell_type": "markdown",
      "source": [
        "27"
      ],
      "metadata": {
        "id": "uY9lFmo5n4AA"
      }
    },
    {
      "cell_type": "code",
      "source": [
        "s = input('enter the string: ')\n",
        "u = 0\n",
        "for i in s:\n",
        "  if i.islower():\n",
        "    u += 1\n",
        "print('the no. of lowercase letters in the string: ',u)"
      ],
      "metadata": {
        "colab": {
          "base_uri": "https://localhost:8080/"
        },
        "id": "e-85khnen3f8",
        "outputId": "192cd00d-9bb0-4d46-ff1a-eb98ecb02037"
      },
      "execution_count": 2,
      "outputs": [
        {
          "output_type": "stream",
          "name": "stdout",
          "text": [
            "enter the string: i AM BAIRhgdyeJHGgftFV\n",
            "the no. of lowercase letters in the string:  9\n"
          ]
        }
      ]
    },
    {
      "cell_type": "markdown",
      "source": [
        "28"
      ],
      "metadata": {
        "id": "yh7ZNr-IdjFt"
      }
    },
    {
      "cell_type": "code",
      "source": [
        "s1 = input('enter a string: ')\n",
        "print('after swapping the case of each character: ',s1.swapcase())"
      ],
      "metadata": {
        "colab": {
          "base_uri": "https://localhost:8080/"
        },
        "id": "DoQV-BDlcwuB",
        "outputId": "2037dd19-fcdf-4348-8c71-85b2e5763cd5"
      },
      "execution_count": null,
      "outputs": [
        {
          "output_type": "stream",
          "name": "stdout",
          "text": [
            "enter a string: NHFJUhdhdhNBHvffsy\n",
            "after swapping the case of each character:  nhfjuHDHDHnbhVFFSY\n"
          ]
        }
      ]
    },
    {
      "cell_type": "markdown",
      "source": [
        "29"
      ],
      "metadata": {
        "id": "3UlZG0lUnmlv"
      }
    },
    {
      "cell_type": "code",
      "source": [
        "s1 = input('enter a string: ')\n",
        "l1 = s1.split()\n",
        "s2 = input('enter the word needs to remove: ')\n",
        "l1.remove(s2)\n",
        "print('after removing the word: ',' '.join(l1))"
      ],
      "metadata": {
        "colab": {
          "base_uri": "https://localhost:8080/"
        },
        "id": "ODOEo-iVlfme",
        "outputId": "c9cba527-467d-4fbc-a738-aa28f1ebf0b2"
      },
      "execution_count": null,
      "outputs": [
        {
          "output_type": "stream",
          "name": "stdout",
          "text": [
            "enter a string: vb bv bn nb\n",
            "enter the word needs to remove: bv\n",
            "after removing the word:  vb bn nb\n"
          ]
        }
      ]
    },
    {
      "cell_type": "markdown",
      "source": [
        "31 and 32\n"
      ],
      "metadata": {
        "id": "pSyYHnnfwaPg"
      }
    },
    {
      "cell_type": "code",
      "source": [
        "email_to_check = input('enter the email address: ')\n",
        "email_split = email_to_check.split('@')\n",
        "username = email_split[0]\n",
        "domain_name = email_split[1]\n",
        "print('username: ',username)\n",
        "print('domain name: ',domain_name)"
      ],
      "metadata": {
        "id": "SoJ8BMU7n_3b",
        "colab": {
          "base_uri": "https://localhost:8080/"
        },
        "outputId": "7b64e3bc-269f-42ba-df7c-8a3a71dada7a"
      },
      "execution_count": 3,
      "outputs": [
        {
          "output_type": "stream",
          "name": "stdout",
          "text": [
            "enter the email address: abirghosh017@gmail.com\n",
            "username:  abirghosh017\n",
            "domain name:  gmail.com\n"
          ]
        }
      ]
    },
    {
      "cell_type": "markdown",
      "source": [
        "33"
      ],
      "metadata": {
        "id": "cRQb2C_GCSrZ"
      }
    },
    {
      "cell_type": "code",
      "source": [
        "s = input('enter a string: ')\n",
        "print('after replacing multiple spaces by single space: ' ,\n",
        "      ' '.join(s.split()))"
      ],
      "metadata": {
        "colab": {
          "base_uri": "https://localhost:8080/"
        },
        "id": "v5mQk0btwedf",
        "outputId": "701def22-9369-43b6-ba11-0a636609249c"
      },
      "execution_count": 5,
      "outputs": [
        {
          "output_type": "stream",
          "name": "stdout",
          "text": [
            "enter a string:   ncbhdu     shgdu       ndhfgry    ndheu      \n",
            "after replacing multiple spaces by single space:  ncbhdu shgdu ndhfgry ndheu\n"
          ]
        }
      ]
    },
    {
      "cell_type": "markdown",
      "source": [
        "35"
      ],
      "metadata": {
        "id": "ep7dgUXvCVdr"
      }
    },
    {
      "cell_type": "code",
      "source": [
        "s = input('enter a URL: ')\n",
        "print('after extracting the protocol name: ',s.split('://')[0])"
      ],
      "metadata": {
        "colab": {
          "base_uri": "https://localhost:8080/"
        },
        "id": "mo3B-8hL38XI",
        "outputId": "94e47e58-5eb2-4ed1-dfcf-98ddbf1ef0ef"
      },
      "execution_count": 6,
      "outputs": [
        {
          "output_type": "stream",
          "name": "stdout",
          "text": [
            "enter a URL: https://pwskills.com/learn/course/full-stack-data-science-pro/64a264076977ccc0a0e20c13/lesson/64d7562378681441b11d257d/?from=%2Flearn%2F&clickText=continue&page_from=my_course_page&section=your_courses&sectionId=64d755ef7868145e3a1d2554&lectureType=sectionResource\n",
            "after extracting the protocol name:  https\n"
          ]
        }
      ]
    },
    {
      "cell_type": "markdown",
      "source": [
        "36"
      ],
      "metadata": {
        "id": "Lxp4kVz3IM7k"
      }
    },
    {
      "cell_type": "code",
      "source": [
        "string = input('enter the string: ')\n",
        "frequency = {}\n",
        "for char in string:\n",
        "  if char in frequency:\n",
        "    frequency[char] += 1\n",
        "  else:\n",
        "    frequency[char] = 1\n",
        "print(frequency)"
      ],
      "metadata": {
        "colab": {
          "base_uri": "https://localhost:8080/"
        },
        "id": "gRnDPv3KDPbR",
        "outputId": "c21b61bf-0487-4181-8a00-9f28c4d6cb0b"
      },
      "execution_count": 7,
      "outputs": [
        {
          "output_type": "stream",
          "name": "stdout",
          "text": [
            "enter the string: bnghn bgnhfryue rtyfufbnfh\n",
            "{'b': 3, 'n': 4, 'g': 2, 'h': 3, ' ': 2, 'f': 4, 'r': 2, 'y': 2, 'u': 2, 'e': 1, 't': 1}\n"
          ]
        }
      ]
    },
    {
      "cell_type": "markdown",
      "source": [
        "37"
      ],
      "metadata": {
        "id": "vEDaPvcuPI4P"
      }
    },
    {
      "cell_type": "code",
      "source": [
        "s = input('enter a string: ')\n",
        "s1 = ''\n",
        "for i in s:\n",
        "  if i.isalnum():\n",
        "    s1 = s1+i\n",
        "print('after removing punctuation: ' , s1)\n",
        ""
      ],
      "metadata": {
        "colab": {
          "base_uri": "https://localhost:8080/"
        },
        "id": "wRlpwPAlIW3t",
        "outputId": "c2a74772-9b14-458d-bfee-a1eee3db01ca"
      },
      "execution_count": 11,
      "outputs": [
        {
          "output_type": "stream",
          "name": "stdout",
          "text": [
            "enter a string: hfyr$%%^&kfjdhr^%$\n",
            "after removing punctuation:  hfyrkfjdhr\n"
          ]
        }
      ]
    },
    {
      "cell_type": "markdown",
      "source": [
        "38"
      ],
      "metadata": {
        "id": "1PpWLGPkPNwm"
      }
    },
    {
      "cell_type": "code",
      "source": [
        "s = input('enter a string: ')\n",
        "if s.isdigit():\n",
        "  print('the string is numeric')\n",
        "else:\n",
        "  print('the string is not numeric')"
      ],
      "metadata": {
        "colab": {
          "base_uri": "https://localhost:8080/"
        },
        "id": "UFJPEI_ZOCew",
        "outputId": "43e6f11e-0f99-4c91-db84-7ae76428f7eb"
      },
      "execution_count": 12,
      "outputs": [
        {
          "output_type": "stream",
          "name": "stdout",
          "text": [
            "enter a string: hfgh456\n",
            "the string is not numeric\n"
          ]
        }
      ]
    },
    {
      "cell_type": "markdown",
      "source": [
        "39"
      ],
      "metadata": {
        "id": "yTHUengAPkOv"
      }
    },
    {
      "cell_type": "code",
      "source": [
        "s = input('enter a string: ')\n",
        "if s.isalpha():\n",
        "  print('the string is alphabetic')\n",
        "else:\n",
        "  print('the string is not alphabetic')"
      ],
      "metadata": {
        "colab": {
          "base_uri": "https://localhost:8080/"
        },
        "id": "6xqLrEcpPg9k",
        "outputId": "37ce3171-bfbf-445d-f410-e3645816c0ef"
      },
      "execution_count": 14,
      "outputs": [
        {
          "output_type": "stream",
          "name": "stdout",
          "text": [
            "enter a string: hgdbfhgr456hdbhe456\n",
            "the string is not alphabetic\n"
          ]
        }
      ]
    },
    {
      "cell_type": "markdown",
      "source": [
        "40"
      ],
      "metadata": {
        "id": "QK_xWZ-OQsJm"
      }
    },
    {
      "cell_type": "code",
      "source": [
        "s = input('enter a string: ')\n",
        "l = []\n",
        "for i in s:\n",
        "  l.append(i)\n",
        "print(l)"
      ],
      "metadata": {
        "colab": {
          "base_uri": "https://localhost:8080/"
        },
        "id": "KX_f6DhUPp4l",
        "outputId": "7dea21c1-ccbc-4484-f131-9b991255df23"
      },
      "execution_count": 16,
      "outputs": [
        {
          "output_type": "stream",
          "name": "stdout",
          "text": [
            "enter a string: jhryu456uti\n",
            "['j', 'h', 'r', 'y', 'u', '4', '5', '6', 'u', 't', 'i']\n"
          ]
        }
      ]
    },
    {
      "cell_type": "markdown",
      "source": [
        "41"
      ],
      "metadata": {
        "id": "dj38UaqxfkzE"
      }
    },
    {
      "cell_type": "code",
      "source": [
        "string = input('enter the 1st word: ')\n",
        "string1 = input('enter the 2nd word: ')\n",
        "frequency = {}\n",
        "frequency2 = {}\n",
        "for char in string:\n",
        "  if char in frequency:\n",
        "    frequency[char] += 1\n",
        "  else:\n",
        "    frequency[char] = 1\n",
        "for char in string1:\n",
        "  if char in frequency2:\n",
        "    frequency2[char] += 1\n",
        "  else:\n",
        "    frequency2[char] = 1\n",
        "if frequency2 == frequency:\n",
        "  print('its anagram')\n",
        "else:\n",
        "  print('its not anagram')"
      ],
      "metadata": {
        "colab": {
          "base_uri": "https://localhost:8080/"
        },
        "id": "7XgWakteQBmn",
        "outputId": "03a091cd-525f-4a72-a1fe-313b2dd48227"
      },
      "execution_count": 19,
      "outputs": [
        {
          "output_type": "stream",
          "name": "stdout",
          "text": [
            "enter the 1st word: name\n",
            "enter the 2nd word: abir\n",
            "its not anagram\n"
          ]
        }
      ]
    },
    {
      "cell_type": "markdown",
      "source": [
        "44"
      ],
      "metadata": {
        "id": "7YqW_2JWu2AM"
      }
    },
    {
      "cell_type": "code",
      "source": [
        "s = input('enter a string: ')\n",
        "string_lower = s.lower()\n",
        "string_lower_split = string_lower.split()\n",
        "dict_freq = {}\n",
        "for word in string_lower_split:\n",
        "  if word in dict_freq:\n",
        "    dict_freq[word] += 1\n",
        "  else:\n",
        "    dict_freq[word] = 1\n",
        "items = dict_freq.items()\n",
        "max_freq_word = \"\"\n",
        "max_freq = 0\n",
        "for word, freq in items:\n",
        "  if freq > max_freq:\n",
        "    max_freq = freq\n",
        "    max_freq_word = word\n",
        "print('the most frequent word in the string: ',max_freq_word)"
      ],
      "metadata": {
        "colab": {
          "base_uri": "https://localhost:8080/"
        },
        "id": "k6KP8cW2vWYa",
        "outputId": "58b3807b-3f43-4873-c22f-0b5ed4d47862"
      },
      "execution_count": 4,
      "outputs": [
        {
          "output_type": "stream",
          "name": "stdout",
          "text": [
            "enter a string: i am am i abir ghosh shosh abir abir jjjjj jjj ncmji nmcij abir\n",
            "the most frequent word in the string:  abir\n"
          ]
        }
      ]
    },
    {
      "cell_type": "markdown",
      "source": [
        "45"
      ],
      "metadata": {
        "id": "eknD1GfTKI7N"
      }
    },
    {
      "cell_type": "code",
      "source": [
        "s = input('enter a string: ')\n",
        "f= {}\n",
        "for i in s.lower().split():\n",
        "  if i in f:\n",
        "    f[i] += 1\n",
        "  else:\n",
        "    f[i]=1\n",
        "print('all unique words are: ',f.keys())"
      ],
      "metadata": {
        "colab": {
          "base_uri": "https://localhost:8080/"
        },
        "id": "B7L_BKeKyOAs",
        "outputId": "daf7845a-a642-416c-b6b4-92531331a55b"
      },
      "execution_count": 5,
      "outputs": [
        {
          "output_type": "stream",
          "name": "stdout",
          "text": [
            "enter a string: i i i ma ma ma ma nhg nhg nhg dteyru gtry bv vb bv bv \n",
            "all unique words are:  dict_keys(['i', 'ma', 'nhg', 'dteyru', 'gtry', 'bv', 'vb'])\n"
          ]
        }
      ]
    },
    {
      "cell_type": "markdown",
      "source": [
        "46"
      ],
      "metadata": {
        "id": "eI_RTvsmKKIK"
      }
    },
    {
      "cell_type": "code",
      "source": [
        "s = input('enter a word: ')\n",
        "s1 = s.lower()\n",
        "v = 'aeiouy'\n",
        "c = 0\n",
        "if s1[0] in v:\n",
        "  c += 1\n",
        "for i in range(1 , len(s1)):\n",
        "  if s1[i] in v and s1[i - 1] not in v:\n",
        "    c += 1\n",
        "if s1.endswith('e'):\n",
        "  c -= 1\n",
        "if c == 0:\n",
        "  c += 1\n",
        "print ('no. syllables in the word: ',c )"
      ],
      "metadata": {
        "colab": {
          "base_uri": "https://localhost:8080/"
        },
        "id": "Dkw0K9_PCkCj",
        "outputId": "c14baa0e-8a5e-4ade-decb-e5410f0f140d"
      },
      "execution_count": 10,
      "outputs": [
        {
          "output_type": "stream",
          "name": "stdout",
          "text": [
            "enter a word: abir\n",
            "no. syllables in the word:  2\n"
          ]
        }
      ]
    },
    {
      "cell_type": "markdown",
      "source": [
        "47"
      ],
      "metadata": {
        "id": "CnTor_2JKMQC"
      }
    },
    {
      "cell_type": "code",
      "source": [
        "s = input('enter a string: ')\n",
        "if s.isalnum():\n",
        "  print('no special character')\n",
        "else:\n",
        "  print('there is special character')"
      ],
      "metadata": {
        "colab": {
          "base_uri": "https://localhost:8080/"
        },
        "id": "vrpMZAm1I2rf",
        "outputId": "40fd028f-c895-437f-9420-406431d71551"
      },
      "execution_count": 19,
      "outputs": [
        {
          "output_type": "stream",
          "name": "stdout",
          "text": [
            "enter a string: mnbhh/*-\n",
            "there is special character\n"
          ]
        }
      ]
    },
    {
      "cell_type": "markdown",
      "source": [
        "48"
      ],
      "metadata": {
        "id": "VMo5X9DhPb8g"
      }
    },
    {
      "cell_type": "code",
      "source": [
        "s = input('enter a string: ')\n",
        "n  =  int(input('position of the word needs to remove: '))\n",
        "print('after removing the word: ',' '.join (s.split()[0:n-1]+s.split()[n:]))"
      ],
      "metadata": {
        "colab": {
          "base_uri": "https://localhost:8080/"
        },
        "id": "0VEFvX1uLsf-",
        "outputId": "ba495b92-bf6d-4e09-e442-fba1d86886d5"
      },
      "execution_count": 25,
      "outputs": [
        {
          "output_type": "stream",
          "name": "stdout",
          "text": [
            "enter a string: kjgh bhfgt nfbht\n",
            "position of the word needs to remove: 1\n",
            "after removing the word:  bhfgt nfbht\n"
          ]
        }
      ]
    },
    {
      "cell_type": "markdown",
      "source": [
        "49"
      ],
      "metadata": {
        "id": "x7Mau1QPPdPS"
      }
    },
    {
      "cell_type": "code",
      "source": [
        "s = input('enter a string: ')\n",
        "s1 = input('enter the word needs to add in the given position: ')\n",
        "n  =  int(input('position of the word needs to add: '))\n",
        "print('after adding the word: ',' '.join (s.split()[0:n-1]+[s1]+s.split()[n:]))"
      ],
      "metadata": {
        "colab": {
          "base_uri": "https://localhost:8080/"
        },
        "id": "k76msimqNSJr",
        "outputId": "35c9be99-3f15-4407-ad35-0ff26eb1aa55"
      },
      "execution_count": 26,
      "outputs": [
        {
          "output_type": "stream",
          "name": "stdout",
          "text": [
            "enter a string: i am abir ghosh\n",
            "enter the word needs to add in the given position: kormo\n",
            "position of the word needs to add: 5\n",
            "after adding the word:  i am abir ghosh kormo\n"
          ]
        }
      ]
    },
    {
      "cell_type": "markdown",
      "source": [
        "50"
      ],
      "metadata": {
        "id": "E2wi-f8sUMJZ"
      }
    },
    {
      "cell_type": "code",
      "source": [
        "csv_string = 'Name,Age,City\\nAlice,30,New York\\nBob,25,London\\nCharlie,35,Paris'\n",
        "lines = csv_string.splitlines()\n",
        "data = [line.split(\",\") for line in lines]\n",
        "print(data)"
      ],
      "metadata": {
        "colab": {
          "base_uri": "https://localhost:8080/"
        },
        "id": "EwXWteytXuRk",
        "outputId": "471d1ce6-5b5f-4871-9d5b-a01fc06aa138"
      },
      "execution_count": 40,
      "outputs": [
        {
          "output_type": "stream",
          "name": "stdout",
          "text": [
            "[['Name', 'Age', 'City'], ['Alice', '30', 'New York'], ['Bob', '25', 'London'], ['Charlie', '35', 'Paris']]\n"
          ]
        }
      ]
    },
    {
      "cell_type": "code",
      "source": [],
      "metadata": {
        "id": "Wd16CDm5YuyG"
      },
      "execution_count": null,
      "outputs": []
    }
  ]
}