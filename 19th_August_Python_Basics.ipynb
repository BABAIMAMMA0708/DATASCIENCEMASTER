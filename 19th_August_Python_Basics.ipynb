{
  "nbformat": 4,
  "nbformat_minor": 0,
  "metadata": {
    "colab": {
      "provenance": []
    },
    "kernelspec": {
      "name": "python3",
      "display_name": "Python 3"
    },
    "language_info": {
      "name": "python"
    }
  },
  "cells": [
    {
      "cell_type": "markdown",
      "source": [
        "TOPIC: Python Basics Variable"
      ],
      "metadata": {
        "id": "o_mGLHGOCHtj"
      }
    },
    {
      "cell_type": "markdown",
      "source": [
        "Q.1"
      ],
      "metadata": {
        "id": "VY0N-LuAg8SL"
      }
    },
    {
      "cell_type": "code",
      "source": [
        "a = input('enter value of a: ')\n",
        "b = input('enter value of b: ')\n",
        "a,b = b,a\n",
        "print('after swapping: ')\n",
        "print('value of a: ',a)\n",
        "print('value of b: ',b)"
      ],
      "metadata": {
        "id": "zdH_u0IAZJKT",
        "colab": {
          "base_uri": "https://localhost:8080/"
        },
        "outputId": "59fe5780-a00c-497b-b846-9f65e9602b2c"
      },
      "execution_count": 8,
      "outputs": [
        {
          "output_type": "stream",
          "name": "stdout",
          "text": [
            "enter value of a: 258\n",
            "enter value of b: 879\n",
            "after swapping: \n",
            "value of a:  879\n",
            "value of b:  258\n"
          ]
        }
      ]
    },
    {
      "cell_type": "markdown",
      "source": [
        "Q.2"
      ],
      "metadata": {
        "id": "os_LFk28g-hI"
      }
    },
    {
      "cell_type": "markdown",
      "source": [],
      "metadata": {
        "id": "nYDpJ0S1g_oI"
      }
    },
    {
      "cell_type": "code",
      "source": [
        "L = float(input('Enter the length of the rectangle: '))\n",
        "# L is the length of the rectangle\n",
        "W = float(input('Enter the width of the rectangle: '))\n",
        "#W is  width of the rectangle\n",
        "A = L*W\n",
        "#A is area of the rectangle\n",
        "print('The area of the triangle : ',A)"
      ],
      "metadata": {
        "id": "_rTJ53zLFRe1",
        "colab": {
          "base_uri": "https://localhost:8080/"
        },
        "outputId": "65bba522-b79a-4daa-aa55-3edf609a9153"
      },
      "execution_count": null,
      "outputs": [
        {
          "output_type": "stream",
          "name": "stdout",
          "text": [
            "Enter the length of the rectangle: 57\n",
            "Enter the width of the rectangle: 21\n",
            "The area of the triangle :  1197.0\n"
          ]
        }
      ]
    },
    {
      "cell_type": "markdown",
      "source": [
        "Q. 3"
      ],
      "metadata": {
        "id": "QHOhDWD3B8SB"
      }
    },
    {
      "cell_type": "code",
      "source": [
        "c = float(input('enter the temp. in celsisus'))\n",
        "F = ((c*9)+160)/5\n",
        "print('temp. in fahrenheit : ',F)"
      ],
      "metadata": {
        "id": "dRUny-JuJrHG",
        "colab": {
          "base_uri": "https://localhost:8080/"
        },
        "outputId": "2cc2f1a1-16cc-4f2b-83dc-519d4711bd0b"
      },
      "execution_count": null,
      "outputs": [
        {
          "output_type": "stream",
          "name": "stdout",
          "text": [
            "enter the temp. in celsisus100\n",
            "temp. in fahrenheit :  212.0\n"
          ]
        }
      ]
    },
    {
      "cell_type": "markdown",
      "source": [
        "TOPIC: String Based Questions\n"
      ],
      "metadata": {
        "id": "bvNCkghsC9Lc"
      }
    },
    {
      "cell_type": "markdown",
      "source": [
        "Q.1"
      ],
      "metadata": {
        "id": "SmcTxxphDCQk"
      }
    },
    {
      "cell_type": "code",
      "source": [
        "s0 = input('enter the string: ')\n",
        "print('Length of the string: ',len(s0))"
      ],
      "metadata": {
        "id": "L6Uzmkg8Kd0W",
        "colab": {
          "base_uri": "https://localhost:8080/"
        },
        "outputId": "8b216198-9486-4801-e6f2-58b9dc2f17fc"
      },
      "execution_count": null,
      "outputs": [
        {
          "output_type": "stream",
          "name": "stdout",
          "text": [
            "enter the string: my name is abir ghosh\n",
            "Length of the string:  21\n"
          ]
        }
      ]
    },
    {
      "cell_type": "markdown",
      "source": [
        "Q.3\n"
      ],
      "metadata": {
        "id": "4494o3qpDp10"
      }
    },
    {
      "cell_type": "code",
      "source": [
        "s1 = input('enter the string: ')\n",
        "print('after reversing the string: ',s1[::-1])"
      ],
      "metadata": {
        "colab": {
          "base_uri": "https://localhost:8080/"
        },
        "id": "6ylLLxojDebD",
        "outputId": "b93495b8-2cc0-45ec-dc5e-024461341eb8"
      },
      "execution_count": null,
      "outputs": [
        {
          "output_type": "stream",
          "name": "stdout",
          "text": [
            "enter the string: i am doing python coding\n",
            "after reversing the string:  gnidoc nohtyp gniod ma i\n"
          ]
        }
      ]
    },
    {
      "cell_type": "markdown",
      "source": [
        "Q.2\n"
      ],
      "metadata": {
        "id": "rRXLx4OVFFSA"
      }
    },
    {
      "cell_type": "code",
      "source": [
        "s2 = input('enter the string: ')\n",
        "s3 = s2.count('a')+s2.count('A') + s2.count('e') + s2.count('E') + s2.count('i') + s2.count('I') + s2.count('o') + s2.count('O') + s2.count('u') + s2.count('U')\n",
        "print('No. of vowel in the sentence: ' ,s3)"
      ],
      "metadata": {
        "colab": {
          "base_uri": "https://localhost:8080/"
        },
        "id": "LJ9IBY_QEwmD",
        "outputId": "8706091e-7ab6-45c3-8570-5b924a3b6727"
      },
      "execution_count": null,
      "outputs": [
        {
          "output_type": "stream",
          "name": "stdout",
          "text": [
            "enter the string: nksskowoijrmoismnmncjjdhury\n",
            "No. of vowel in the sentence:  6\n"
          ]
        }
      ]
    },
    {
      "cell_type": "markdown",
      "source": [
        "Q.4"
      ],
      "metadata": {
        "id": "SdvSJ__RYYF6"
      }
    },
    {
      "cell_type": "code",
      "source": [
        "s4 = input('enter the string: ')\n",
        "s5 = s4.replace(' ','')\n",
        "print('after removing the spaces: ',s5)"
      ],
      "metadata": {
        "colab": {
          "base_uri": "https://localhost:8080/"
        },
        "id": "EvvGUDMwWpRM",
        "outputId": "2cbada96-d523-46a2-9449-6188b47eb08b"
      },
      "execution_count": null,
      "outputs": [
        {
          "output_type": "stream",
          "name": "stdout",
          "text": [
            "enter the string: n mkj mnjdhu mnsjhdgtryu bndheiuw\n",
            "after removing the spaces:  nmkjmnjdhumnsjhdgtryubndheiuw\n"
          ]
        }
      ]
    },
    {
      "cell_type": "code",
      "source": [],
      "metadata": {
        "id": "6LHJiSOpe7MB"
      },
      "execution_count": null,
      "outputs": []
    }
  ]
}